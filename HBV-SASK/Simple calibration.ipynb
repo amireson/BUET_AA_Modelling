{
 "cells": [
  {
   "cell_type": "markdown",
   "metadata": {},
   "source": [
    "# HBV model - calibration\n",
    "\n",
    "Andrew Ireson, 19 March 2022"
   ]
  },
  {
   "cell_type": "code",
   "execution_count": null,
   "metadata": {},
   "outputs": [],
   "source": [
    "import numpy as np\n",
    "import matplotlib.pyplot as pl\n",
    "import pandas as pd\n",
    "\n",
    "import sys\n",
    "sys.path.insert(1,'lib')\n",
    "\n",
    "# Select here which model to run:\n",
    "sys.path.insert(1,'hbv')\n",
    "\n",
    "import model_library as model\n",
    "\n",
    "import time"
   ]
  },
  {
   "cell_type": "code",
   "execution_count": null,
   "metadata": {},
   "outputs": [],
   "source": [
    "# Pick basin:\n",
    "basin='Banff basin'"
   ]
  },
  {
   "cell_type": "code",
   "execution_count": null,
   "metadata": {},
   "outputs": [],
   "source": [
    "# Initial parameter guesses\n",
    "par_values={}\n",
    "par_values['TT']=0\n",
    "par_values['C0']=1\n",
    "par_values['ETF']=0.1\n",
    "par_values['LP']=0.3\n",
    "par_values['FC']=250\n",
    "par_values['beta']=2\n",
    "par_values['FRAC']=0.7\n",
    "par_values['K1']=0.05\n",
    "par_values['alpha']=1.5\n",
    "par_values['K2']=0.01\n",
    "par_values['UBAS']=1\n",
    "par_values['PM']=1."
   ]
  },
  {
   "cell_type": "code",
   "execution_count": null,
   "metadata": {},
   "outputs": [],
   "source": [
    "# Load observed streamflow\n",
    "Qobs=model.obs_streamflow(basin)"
   ]
  },
  {
   "cell_type": "code",
   "execution_count": null,
   "metadata": {},
   "outputs": [],
   "source": [
    "# Run the model with user specified values\n",
    "fluxUC,state,forcing=model.StartRun(basin,par_values)"
   ]
  },
  {
   "cell_type": "code",
   "execution_count": null,
   "metadata": {},
   "outputs": [],
   "source": [
    "# Plot observed and simulated streamflow\n",
    "start='1998'\n",
    "end='2001'\n",
    "\n",
    "# Plot performance\n",
    "pl.figure(figsize=(10,5))\n",
    "pl.plot(fluxUC['Q_cms'][start:end],'-',color='royalblue',label='Simulated')\n",
    "pl.plot(Qobs[start:end],'.',color='sienna',label='Observed')\n",
    "pl.ylabel('Streamflow (cms)',fontsize=13); pl.grid()\n",
    "pl.legend(fontsize=13)"
   ]
  },
  {
   "cell_type": "code",
   "execution_count": null,
   "metadata": {},
   "outputs": [],
   "source": [
    "# Generate parameters bounds for optimization/uncertainty analysis\n",
    "par_bounds={}                        # Default value\n",
    "par_bounds['TT']=(-4,4)              # 0.\n",
    "par_bounds['C0']=(0,10)              # 1.\n",
    "par_bounds['ETF']=(0,1)              # 0.1\n",
    "par_bounds['LP']=(0,1)               # 0.3\n",
    "par_bounds['FC']=(50,500)            # 250\n",
    "par_bounds['beta']=(1,3)             # 2.\n",
    "par_bounds['FRAC']=(0.1,0.9)         # 0.7\n",
    "par_bounds['K1']=(0.05,1)            # 0.05\n",
    "par_bounds['alpha']=(1,3)            # 1.5\n",
    "par_bounds['K2']=(0,0.05)            # 0.01\n",
    "par_bounds['UBAS']=(1,3)             # 1.\n",
    "par_bounds['PM']=(0.5,2)             # 1."
   ]
  },
  {
   "cell_type": "code",
   "execution_count": null,
   "metadata": {},
   "outputs": [],
   "source": [
    "# Specify dates for calibration and validation\n",
    "dates={}\n",
    "dates['start_spin']='1998'\n",
    "dates['start_calib']='2000'\n",
    "dates['end_calib']='2000'\n",
    "dates['start_validation']=dates['end_calib']\n",
    "dates['end_validation']='2001'"
   ]
  },
  {
   "cell_type": "code",
   "execution_count": null,
   "metadata": {},
   "outputs": [],
   "source": [
    "# list of parameters to be optimized, and associated starting values\n",
    "pn=[k for k in par_values]\n",
    "pv=[par_values[k] for k in par_values]\n",
    "pn=pn[:-1]\n",
    "pv=pv[:-1]\n",
    "metric='RMSE'\n",
    "\n",
    "# Run optimization\n",
    "par_values,pv=model.run_optimization(basin,dates,metric,par_bounds,par_values,pn,pv)"
   ]
  },
  {
   "cell_type": "code",
   "execution_count": null,
   "metadata": {},
   "outputs": [],
   "source": [
    "# Run model with optimized parameters and save outputs:\n",
    "flux,state,forcing=model.StartRun(basin,par_values)"
   ]
  },
  {
   "cell_type": "code",
   "execution_count": null,
   "metadata": {},
   "outputs": [],
   "source": [
    "calib=-model.eval_metric(Qobs[dates['start_calib']:dates['end_calib']].values.squeeze(),flux['Q_cms'][dates['start_calib']:dates['end_calib']].values,'NSE')\n",
    "valid=-model.eval_metric(Qobs[dates['start_validation']:dates['end_validation']].values.squeeze(),flux['Q_cms'][dates['start_validation']:dates['end_validation']].values,'NSE')\n",
    "print('%s (calibration): %.4f'%(metric,calib))\n",
    "print('%s (validation): %.4f'%(metric,valid))"
   ]
  },
  {
   "cell_type": "code",
   "execution_count": null,
   "metadata": {},
   "outputs": [],
   "source": [
    "# Plot calibration performance\n",
    "start=dates['start_spin']\n",
    "end=dates['end_validation']\n",
    "pl.figure(figsize=(10,5))\n",
    "pl.plot(Qobs[start:end],'.',label='Observed')\n",
    "pl.plot(fluxUC['Q_cms'][start:end],label='Uncalibrated simulation')\n",
    "pl.plot(flux['Q_cms'][start:end],label='Calibrated simulation')\n",
    "pl.legend(fontsize=13)\n",
    "pl.ylabel('Streamflow (cms)',fontsize=13); pl.grid()"
   ]
  },
  {
   "cell_type": "code",
   "execution_count": null,
   "metadata": {},
   "outputs": [],
   "source": []
  }
 ],
 "metadata": {
  "kernelspec": {
   "display_name": "Python 3 (ipykernel)",
   "language": "python",
   "name": "python3"
  },
  "language_info": {
   "codemirror_mode": {
    "name": "ipython",
    "version": 3
   },
   "file_extension": ".py",
   "mimetype": "text/x-python",
   "name": "python",
   "nbconvert_exporter": "python",
   "pygments_lexer": "ipython3",
   "version": "3.9.7"
  }
 },
 "nbformat": 4,
 "nbformat_minor": 2
}
