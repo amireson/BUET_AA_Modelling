{
 "cells": [
  {
   "cell_type": "markdown",
   "metadata": {},
   "source": [
    "# HBV Sask model\n",
    "\n",
    "Andrew Ireson, 19 March 2022\n",
    "\n",
    "### HBV model structure:\n",
    "\n",
    "<img src='HBV.png'>\n",
    "\n",
    "### Bow river basin: \n",
    "\n",
    "<img src='basins.png'>"
   ]
  },
  {
   "cell_type": "code",
   "execution_count": null,
   "metadata": {},
   "outputs": [],
   "source": [
    "import numpy as np\n",
    "import matplotlib.pyplot as pl\n",
    "import pandas as pd\n",
    "\n",
    "import sys\n",
    "sys.path.insert(1,'lib')\n",
    "\n",
    "# Select here which model to run:\n",
    "sys.path.insert(1,'hbv')\n",
    "\n",
    "import model_library as model\n",
    "\n",
    "import time"
   ]
  },
  {
   "cell_type": "code",
   "execution_count": null,
   "metadata": {},
   "outputs": [],
   "source": [
    "# Pick basin:\n",
    "basin='Banff basin'"
   ]
  },
  {
   "cell_type": "code",
   "execution_count": null,
   "metadata": {},
   "outputs": [],
   "source": [
    "# Generate a single set of model parameters:\n",
    "\n",
    "# % TT: Air temperature threshold in °C for melting/freezing and separating rain and snow\n",
    "# % C0: Base melt factor, in mm/°C per day\n",
    "# % ETF: Temperature anomaly correction in 1/°C of potential evapotranspiration\n",
    "# % LP: Limit for PET as a multiplier to FC, i.e., soil moisture below which evaporation becomes supply limited\n",
    "# % FC: Field capacity of soil, in mm. The maximum amount of water that the soil can retain\n",
    "# % beta: Shape parameter (exponent) for soil release equation (unitless)\n",
    "# % FRAC: Fraction of soil release entering fast reservoir (unitless)\n",
    "# % K1: Fast reservoir coefficient, which determines what proportion of the storage is released per day (unitless)\n",
    "# % alpha: Shape parameter (exponent) for fast reservoir equation (unitless)\n",
    "# % K2: Slow reservoir coefficient which determines what proportion of the storage is released per day (unitless)\n",
    "# % UBAS: Base of unit hydrograph for watershed routing in day; default is 1 for small watersheds\n",
    "# % PM: Precipitation multiplier to account for uncertainty (bias) in precipitation (unitless); default is 1. \n",
    "\n",
    "par_values={}\n",
    "par_values['TT']=0\n",
    "par_values['C0']=1\n",
    "par_values['ETF']=0.1\n",
    "par_values['LP']=0.3\n",
    "par_values['FC']=250\n",
    "par_values['beta']=2\n",
    "par_values['FRAC']=0.7\n",
    "par_values['K1']=0.05\n",
    "par_values['alpha']=1.5\n",
    "par_values['K2']=0.01\n",
    "par_values['UBAS']=1\n",
    "par_values['PM']=1."
   ]
  },
  {
   "cell_type": "code",
   "execution_count": null,
   "metadata": {},
   "outputs": [],
   "source": [
    "# Load observed streamflow\n",
    "Qobs=model.obs_streamflow(basin)"
   ]
  },
  {
   "cell_type": "code",
   "execution_count": null,
   "metadata": {},
   "outputs": [],
   "source": [
    "# Run the model with user specified values\n",
    "flux,state,forcing=model.StartRun(basin,par_values)"
   ]
  },
  {
   "cell_type": "code",
   "execution_count": null,
   "metadata": {},
   "outputs": [],
   "source": [
    "# Plot observed and simulated streamflow\n",
    "start='1900'\n",
    "end='2030'\n",
    "\n",
    "# Plot performance\n",
    "pl.figure(figsize=(10,5))\n",
    "pl.plot(flux['Q_cms'][start:end],'-',color='royalblue',label='Simulated')\n",
    "pl.plot(Qobs[start:end],'.',color='sienna',label='Observed')\n",
    "pl.ylabel('Streamflow (cms)',fontsize=13); pl.grid()\n",
    "pl.legend(fontsize=13)"
   ]
  }
 ],
 "metadata": {
  "kernelspec": {
   "display_name": "Python 3 (ipykernel)",
   "language": "python",
   "name": "python3"
  },
  "language_info": {
   "codemirror_mode": {
    "name": "ipython",
    "version": 3
   },
   "file_extension": ".py",
   "mimetype": "text/x-python",
   "name": "python",
   "nbconvert_exporter": "python",
   "pygments_lexer": "ipython3",
   "version": "3.9.7"
  }
 },
 "nbformat": 4,
 "nbformat_minor": 2
}
