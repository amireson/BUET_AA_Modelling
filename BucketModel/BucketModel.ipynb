{
 "cells": [
  {
   "cell_type": "markdown",
   "id": "cad50ee1",
   "metadata": {},
   "source": [
    "# Bucket model\n",
    "\n",
    "Andrew Ireson, 19th March 2022\n",
    "\n",
    "Consider the bucket, with inflow $Q_{in}$ (m$^3$/h), storage $S$ (m), and outflow $kS$ (where $k$ (m$^2$/h) is the discharge coefficient):\n",
    "\n",
    "<img width=300pt src='bucket.png'>\n",
    "\n",
    "The governing equation for this problem is the ordinary differential equation\n",
    "\n",
    "$$\\frac{dS}{dt}=Q_{in}-kS$$\n",
    "\n",
    "If we set $Q_{in}$ equal to zero (i.e. a draining bucket), then this equation has the solution\n",
    "\n",
    "$$S(t)=S_0\\exp{(-kt)}$$\n",
    "\n",
    "where $S_0$ is the initial storage in the bucket. "
   ]
  },
  {
   "cell_type": "code",
   "execution_count": null,
   "id": "6d841731",
   "metadata": {},
   "outputs": [],
   "source": [
    "import numpy as np\n",
    "import matplotlib.pyplot as pl"
   ]
  },
  {
   "cell_type": "code",
   "execution_count": null,
   "id": "c4dcc90a",
   "metadata": {},
   "outputs": [],
   "source": [
    "# Define a time grid array:\n",
    "dt=0.1\n",
    "tMax=20.\n",
    "t=np.arange(0,tMax+dt,dt)\n",
    "nt=len(t)"
   ]
  },
  {
   "cell_type": "code",
   "execution_count": null,
   "id": "0ddc4100",
   "metadata": {},
   "outputs": [],
   "source": [
    "# Define model parameters:\n",
    "S0=2.0\n",
    "k=0.5\n",
    "Qin=0.1"
   ]
  },
  {
   "cell_type": "code",
   "execution_count": null,
   "id": "1b00774c",
   "metadata": {},
   "outputs": [],
   "source": [
    "# Calculate S using the analytical solution\n",
    "S=___???\n",
    "outflow=___???"
   ]
  },
  {
   "cell_type": "code",
   "execution_count": null,
   "id": "08a3c110",
   "metadata": {},
   "outputs": [],
   "source": [
    "# Plot the output\n",
    "pl.figure(figsize=(5,5))\n",
    "pl.subplot(2,1,1)\n",
    "pl.plot(t,S,color='red')\n",
    "pl.grid()\n",
    "pl.ylabel('Storage (m$^3$)')\n",
    "pl.subplot(2,1,2)\n",
    "pl.plot(t,outflow,color='red')\n",
    "pl.grid()\n",
    "pl.xlabel('Time (h)')\n",
    "pl.ylabel('Discharge (m$^3$/h)')\n",
    "pl.subplots_adjust(hspace=0.04)"
   ]
  },
  {
   "cell_type": "markdown",
   "id": "e4a283fe",
   "metadata": {},
   "source": [
    "## Fundamental programming concepts you must learn\n",
    "\n",
    "1. The concept of functions in programming:\n",
    "\n",
    "<img width=200pt src='function.png'>"
   ]
  },
  {
   "cell_type": "code",
   "execution_count": null,
   "id": "d6fc169e",
   "metadata": {},
   "outputs": [],
   "source": [
    "def function(input1,input2):\n",
    "    # Do something here:\n",
    "    \n",
    "    return output1"
   ]
  },
  {
   "cell_type": "markdown",
   "id": "21de0a6c",
   "metadata": {},
   "source": [
    "2. The concept of looping:\n",
    "\n",
    "<img width=250pt src='loop.png'>"
   ]
  },
  {
   "cell_type": "code",
   "execution_count": null,
   "id": "da5aa8a4",
   "metadata": {},
   "outputs": [],
   "source": [
    "for i in range(10):\n",
    "    # Do something here:\n",
    "    "
   ]
  },
  {
   "cell_type": "markdown",
   "id": "fcfa2646",
   "metadata": {},
   "source": [
    "3. The concept of conditionals:\n",
    "\n",
    "<img width=300pt src='condition.png'>"
   ]
  },
  {
   "cell_type": "code",
   "execution_count": null,
   "id": "395b9954",
   "metadata": {},
   "outputs": [],
   "source": [
    "if name == 'andrew':\n",
    "    # Do action 2 here:\n",
    "    \n",
    "else:\n",
    "    # Do action 1 here:\n",
    "    "
   ]
  },
  {
   "cell_type": "markdown",
   "id": "7663abf9",
   "metadata": {},
   "source": [
    "# Solving the problem numerically\n",
    "\n",
    "Euler's method:\n",
    "\n",
    "$$S_{i+1}=S_i+\\frac{dS}{dt}\\Delta t$$"
   ]
  },
  {
   "cell_type": "code",
   "execution_count": null,
   "id": "7fcb3d14",
   "metadata": {},
   "outputs": [],
   "source": [
    "# Function to evaluate dS/dt\n",
    "def modelfun(___???):\n",
    "    ___???\n",
    "    return ___???"
   ]
  },
  {
   "cell_type": "code",
   "execution_count": null,
   "id": "6789b019",
   "metadata": {},
   "outputs": [],
   "source": [
    "Sm=np.zeros(nt)\n",
    "Sm[0]=S0\n",
    "for i in range(nt-1):\n",
    "    dSdt=modelfun(Sm[i],k,Qin)\n",
    "    Sm[i+1]=Sm[i]+dSdt*dt"
   ]
  },
  {
   "cell_type": "code",
   "execution_count": null,
   "id": "329ab772",
   "metadata": {},
   "outputs": [],
   "source": [
    "pl.figure(figsize=(5,5))\n",
    "pl.subplot(2,1,1)\n",
    "pl.plot(t,S,color='red')\n",
    "pl.plot(t,Sm,color='blue')\n",
    "pl.grid()\n",
    "pl.ylabel('Storage (m$^3$)')\n",
    "pl.subplot(2,1,2)\n",
    "pl.plot(t,k*S,color='red')\n",
    "pl.plot(t,k*Sm,color='blue')\n",
    "pl.grid()\n",
    "pl.xlabel('Time (h)')\n",
    "pl.ylabel('Discharge (m$^3$/h)')\n",
    "pl.subplots_adjust(hspace=0.04)"
   ]
  }
 ],
 "metadata": {
  "kernelspec": {
   "display_name": "Python 3 (ipykernel)",
   "language": "python",
   "name": "python3"
  },
  "language_info": {
   "codemirror_mode": {
    "name": "ipython",
    "version": 3
   },
   "file_extension": ".py",
   "mimetype": "text/x-python",
   "name": "python",
   "nbconvert_exporter": "python",
   "pygments_lexer": "ipython3",
   "version": "3.9.7"
  }
 },
 "nbformat": 4,
 "nbformat_minor": 5
}
